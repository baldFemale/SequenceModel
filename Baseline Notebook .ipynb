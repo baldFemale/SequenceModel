{
 "cells": [
  {
   "cell_type": "code",
   "execution_count": 1,
   "metadata": {},
   "outputs": [],
   "source": [
    "from RoutineNetwork import * \n",
    "import multiprocessing\n",
    "import matplotlib.pyplot as plt\n",
    "from scipy import signal"
   ]
  },
  {
   "cell_type": "code",
   "execution_count": 42,
   "metadata": {
    "scrolled": true
   },
   "outputs": [
    {
     "name": "stdout",
     "output_type": "stream",
     "text": [
      "0 Fri Sep 16 17:03:24 2022\n",
      "0 Fri Sep 16 17:03:24 2022\n",
      "0 Fri Sep 16 17:03:24 2022\n",
      "0 Fri Sep 16 17:03:24 2022\n",
      "0 Fri Sep 16 17:03:24 2022\n",
      "0 Fri Sep 16 17:03:24 2022\n",
      "0 Fri Sep 16 17:03:24 2022\n",
      "0 Fri Sep 16 17:03:24 2022\n",
      "0 Fri Sep 16 17:03:24 2022\n",
      "0 Fri Sep 16 17:03:24 2022\n",
      "0 Fri Sep 16 17:03:24 2022\n",
      "0 Fri Sep 16 17:03:24 2022\n",
      "1 Fri Sep 16 17:03:26 2022\n",
      "1 Fri Sep 16 17:03:26 2022\n",
      "1 Fri Sep 16 17:03:26 2022\n",
      "2 Fri Sep 16 17:03:27 2022\n",
      "2 Fri Sep 16 17:03:27 2022\n",
      "2 Fri Sep 16 17:03:27 2022\n",
      "3 Fri Sep 16 17:03:29 2022\n",
      "3 Fri Sep 16 17:03:29 2022\n",
      "1 Fri Sep 16 17:03:29 2022\n",
      "3 Fri Sep 16 17:03:29 2022\n",
      "1 Fri Sep 16 17:03:29 2022\n",
      "4 Fri Sep 16 17:03:30 2022\n",
      "4 Fri Sep 16 17:03:31 2022\n",
      "4 Fri Sep 16 17:03:31 2022\n",
      "5 Fri Sep 16 17:03:32 2022\n",
      "1 Fri Sep 16 17:03:32 2022\n",
      "5 Fri Sep 16 17:03:32 2022\n",
      "5 Fri Sep 16 17:03:32 2022\n",
      "6 Fri Sep 16 17:03:33 2022\n",
      "2 Fri Sep 16 17:03:33 2022\n",
      "6 Fri Sep 16 17:03:34 2022\n",
      "6 Fri Sep 16 17:03:34 2022\n",
      "2 Fri Sep 16 17:03:35 2022\n",
      "7 Fri Sep 16 17:03:35 2022\n",
      "7 Fri Sep 16 17:03:35 2022\n",
      "7 Fri Sep 16 17:03:36 2022\n",
      "8 Fri Sep 16 17:03:36 2022\n",
      "8 Fri Sep 16 17:03:37 2022\n",
      "1 Fri Sep 16 17:03:37 2022\n",
      "1 Fri Sep 16 17:03:37 2022\n",
      "8 Fri Sep 16 17:03:38 2022\n",
      "9 Fri Sep 16 17:03:38 2022\n",
      "2 Fri Sep 16 17:03:38 2022\n",
      "3 Fri Sep 16 17:03:38 2022\n",
      "3 Fri Sep 16 17:03:38 2022\n",
      "9 Fri Sep 16 17:03:38 2022\n",
      "9 Fri Sep 16 17:03:39 2022\n",
      "4 Fri Sep 16 17:03:42 2022\n",
      "3 Fri Sep 16 17:03:43 2022\n",
      "4 Fri Sep 16 17:03:44 2022\n",
      "2 Fri Sep 16 17:03:46 2022\n",
      "5 Fri Sep 16 17:03:46 2022\n",
      "1 Fri Sep 16 17:03:47 2022\n",
      "4 Fri Sep 16 17:03:48 2022\n",
      "6 Fri Sep 16 17:03:50 2022\n",
      "5 Fri Sep 16 17:03:51 2022\n",
      "2 Fri Sep 16 17:03:52 2022\n",
      "5 Fri Sep 16 17:03:52 2022\n",
      "1 Fri Sep 16 17:03:54 2022\n",
      "1 Fri Sep 16 17:03:54 2022\n",
      "3 Fri Sep 16 17:03:55 2022\n",
      "6 Fri Sep 16 17:03:57 2022\n",
      "7 Fri Sep 16 17:03:57 2022\n",
      "6 Fri Sep 16 17:03:58 2022\n",
      "2 Fri Sep 16 17:04:00 2022\n",
      "4 Fri Sep 16 17:04:00 2022\n",
      "7 Fri Sep 16 17:04:02 2022\n",
      "7 Fri Sep 16 17:04:04 2022\n",
      "8 Fri Sep 16 17:04:04 2022\n",
      "9 Fri Sep 16 17:04:08 2022\n",
      "8 Fri Sep 16 17:04:08 2022\n",
      "5 Fri Sep 16 17:04:08 2022\n",
      "8 Fri Sep 16 17:04:08 2022\n",
      "3 Fri Sep 16 17:04:09 2022\n",
      "3 Fri Sep 16 17:04:11 2022\n",
      "2 Fri Sep 16 17:04:12 2022\n",
      "9 Fri Sep 16 17:04:12 2022\n",
      "9 Fri Sep 16 17:04:14 2022\n",
      "6 Fri Sep 16 17:04:16 2022\n",
      "4 Fri Sep 16 17:04:19 2022\n",
      "2 Fri Sep 16 17:04:20 2022\n",
      "7 Fri Sep 16 17:04:24 2022\n",
      "3 Fri Sep 16 17:04:26 2022\n",
      "4 Fri Sep 16 17:04:29 2022\n",
      "5 Fri Sep 16 17:04:31 2022\n",
      "8 Fri Sep 16 17:04:32 2022\n",
      "9 Fri Sep 16 17:04:40 2022\n",
      "5 Fri Sep 16 17:04:45 2022\n",
      "6 Fri Sep 16 17:04:45 2022\n",
      "4 Fri Sep 16 17:04:45 2022\n",
      "3 Fri Sep 16 17:04:52 2022\n",
      "6 Fri Sep 16 17:04:57 2022\n",
      "5 Fri Sep 16 17:05:02 2022\n",
      "1 Fri Sep 16 17:05:03 2022\n",
      "7 Fri Sep 16 17:05:03 2022\n",
      "7 Fri Sep 16 17:05:05 2022\n",
      "4 Fri Sep 16 17:05:14 2022\n",
      "8 Fri Sep 16 17:05:16 2022\n",
      "8 Fri Sep 16 17:05:19 2022\n",
      "6 Fri Sep 16 17:05:22 2022\n",
      "9 Fri Sep 16 17:05:33 2022\n",
      "9 Fri Sep 16 17:05:37 2022\n",
      "7 Fri Sep 16 17:05:41 2022\n",
      "5 Fri Sep 16 17:05:43 2022\n",
      "2 Fri Sep 16 17:05:57 2022\n",
      "8 Fri Sep 16 17:06:02 2022\n",
      "9 Fri Sep 16 17:06:14 2022\n",
      "6 Fri Sep 16 17:06:17 2022\n",
      "7 Fri Sep 16 17:06:45 2022\n",
      "3 Fri Sep 16 17:06:47 2022\n",
      "8 Fri Sep 16 17:07:01 2022\n",
      "9 Fri Sep 16 17:07:35 2022\n",
      "4 Fri Sep 16 17:07:41 2022\n",
      "5 Fri Sep 16 17:08:41 2022\n",
      "6 Fri Sep 16 17:09:54 2022\n",
      "7 Fri Sep 16 17:10:31 2022\n",
      "8 Fri Sep 16 17:11:10 2022\n",
      "9 Fri Sep 16 17:11:21 2022\n"
     ]
    }
   ],
   "source": [
    "repeat = 10 \n",
    "period = 2000\n",
    "\n",
    "manager = multiprocessing.Manager()\n",
    "return_dic = manager.dict()\n",
    "\n",
    "jobs = []\n",
    "\n",
    "index = 0\n",
    "\n",
    "N = 15\n",
    "\n",
    "for V in [0.005, 0.01, 0.02, ]:\n",
    "    for R in [0, 50, 100, 200]:\n",
    "\n",
    "        p = multiprocessing.Process(\n",
    "            target=simulation, args=(\n",
    "                return_dic, index, repeat, period, N, V, R\n",
    "            )\n",
    "        )\n",
    "\n",
    "        jobs.append(p)\n",
    "        p.start()\n",
    "\n",
    "        index += 1\n",
    "        \n",
    "for proc in jobs:\n",
    "    proc.join()\n",
    "\n",
    "res_dic = {}\n",
    "\n",
    "for k in return_dic.keys():\n",
    "    res_dic[k] = return_dic[k]"
   ]
  },
  {
   "cell_type": "code",
   "execution_count": 44,
   "metadata": {},
   "outputs": [],
   "source": [
    "def processDriftProbability(routine, order=1):\n",
    "    \"\"\"\n",
    "    routine: a sequence of action \n",
    "    order: order of magnitude \n",
    "    return: a bool indicator for drift\n",
    "    \"\"\"\n",
    "    \n",
    "    mean_v = np.mean(routine)\n",
    "    height = pow(10, order)*mean_v\n",
    "    \n",
    "    peaks = signal.find_peaks(routine, height=height)[0]\n",
    "    \n",
    "    if len(peaks)==0:\n",
    "        return 0 \n",
    "    elif len(peaks)==1:\n",
    "        if np.mean(routine[peaks[0]+1:]) < np.mean(routine[:peaks[0]-1]):\n",
    "            return 1\n",
    "        else:\n",
    "            return 0 \n",
    "    else: \n",
    "        if np.mean(routine[peaks[-1]+1:]) < np.mean(routine[:peaks[0]-1]):\n",
    "            return 1\n",
    "        else:\n",
    "            return 0"
   ]
  },
  {
   "cell_type": "code",
   "execution_count": 47,
   "metadata": {
    "scrolled": true
   },
   "outputs": [
    {
     "data": {
      "text/plain": [
       "[<matplotlib.lines.Line2D at 0x7f9b8c3e5090>]"
      ]
     },
     "execution_count": 47,
     "metadata": {},
     "output_type": "execute_result"
    },
    {
     "data": {
      "image/png": "[encoded data removed]",
      "text/plain": [
       "<Figure size 432x288 with 1 Axes>"
      ]
     },
     "metadata": {
      "needs_background": "light"
     },
     "output_type": "display_data"
    }
   ],
   "source": [
    "R = 2\n",
    "V = 2\n",
    "plt.plot(\n",
    "    np.array(\n",
    "        res_dic[V*4+R]\n",
    "    )[7]\n",
    ")"
   ]
  },
  {
   "cell_type": "code",
   "execution_count": 48,
   "metadata": {},
   "outputs": [
    {
     "data": {
      "text/plain": [
       "<matplotlib.legend.Legend at 0x7f9b8c4071d0>"
      ]
     },
     "execution_count": 48,
     "metadata": {},
     "output_type": "execute_result"
    },
    {
     "data": {
      "image/png": "[encoded data removed]",
      "text/plain": [
       "<Figure size 432x288 with 1 Axes>"
      ]
     },
     "metadata": {
      "needs_background": "light"
     },
     "output_type": "display_data"
    }
   ],
   "source": [
    "for V in range(3):\n",
    "    temp = []\n",
    "    for R in range(4):\n",
    "        drift_p = []\n",
    "        for repeat in range(10):\n",
    "            \n",
    "            drift_p.append(\n",
    "                processDriftProbability(\n",
    "                    res_dic[V*4+R][repeat], 0.5\n",
    "                )\n",
    "            )\n",
    "        temp.append(np.mean(drift_p))\n",
    "    plt.plot(temp, label=str(V))\n",
    "plt.legend()"
   ]
  },
  {
   "cell_type": "code",
   "execution_count": null,
   "metadata": {},
   "outputs": [],
   "source": []
  }
 ],
 "metadata": {
  "kernelspec": {
   "display_name": "Python 3",
   "language": "python",
   "name": "python3"
  },
  "language_info": {
   "codemirror_mode": {
    "name": "ipython",
    "version": 3
   },
   "file_extension": ".py",
   "mimetype": "text/x-python",
   "name": "python",
   "nbconvert_exporter": "python",
   "pygments_lexer": "ipython3",
   "version": "3.7.4"
  }
 },
 "nbformat": 4,
 "nbformat_minor": 2
}
